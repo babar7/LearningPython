{
 "cells": [
  {
   "cell_type": "code",
   "execution_count": 1,
   "metadata": {},
   "outputs": [
    {
     "name": "stdout",
     "output_type": "stream",
     "text": [
      "id\n",
      "first_name\n",
      "last_name\n",
      "city\n",
      "age\n",
      "id\n",
      "first_name\n",
      "last_name\n",
      "city\n",
      "age\n",
      "qualification\n",
      "id\n",
      "first_name\n",
      "last_name\n",
      "city\n",
      "age\n"
     ]
    }
   ],
   "source": [
    "person = {\n",
    "    \"id\": 1,\n",
    "    \"first_name\": \"John\",\n",
    "    \"last_name\": \"Mike\",\n",
    "    \"city\": \"France\",\n",
    "    \"age\": 24\n",
    "}\n",
    "for key in person.keys():\n",
    "    print(key)\n",
    "# Adding new key and value\n",
    "person[\"qualification\"] = \"Graduate\"\n",
    "\n",
    "for key in person.keys():\n",
    "    print(key)\n",
    "\n",
    "# Updating qualification value\n",
    "person[\"qualification\"] = \"Masters\"\n",
    "\n",
    "# deleting qualification\n",
    "del person[\"qualification\"]\n",
    "\n",
    "for key in person.keys():\n",
    "    print(key)\n"
   ]
  },
  {
   "cell_type": "code",
   "execution_count": 2,
   "metadata": {},
   "outputs": [
    {
     "name": "stdout",
     "output_type": "stream",
     "text": [
      "karachi\n",
      "country is Pakistan\n",
      "population is 14.91 million\n",
      "fact is Karachi is the largest and most populous metropolitan city in Pakistan and the capital of Sindh province.\n",
      "Lahore\n",
      "country is Pakistan\n",
      "population is 11.13 million\n",
      "fact is Lahore is the capital of the Pakistani province of Punjab\n",
      "Islamabad\n",
      "country is Pakistan\n",
      "population is 1.015 million\n",
      "fact is Islamabad is the 9th largest city in Pakistan\n"
     ]
    }
   ],
   "source": [
    "cities = {\n",
    "    \"karachi\": {\n",
    "        \"country\": \"Pakistan\",\n",
    "        \"population\": \"14.91 million\",\n",
    "        \"fact\": \"Karachi is the largest and most populous metropolitan city in Pakistan and the capital of Sindh province.\"\n",
    "    },\n",
    "    \"Lahore\": {\n",
    "        \"country\": \"Pakistan\",\n",
    "        \"population\": \"11.13 million\",\n",
    "        \"fact\": \"Lahore is the capital of the Pakistani province of Punjab\"\n",
    "    },\n",
    "    \"Islamabad\": {\n",
    "        \"country\": \"Pakistan\",\n",
    "        \"population\": \"1.015 million\",\n",
    "        \"fact\": \"Islamabad is the 9th largest city in Pakistan\"\n",
    "    }\n",
    "}\n",
    "# Print Keys in cities dictionary\n",
    "for key in cities:\n",
    "    print(key)\n",
    "    for ky, val in cities[key].items():\n",
    "        print(ky, \"is\", val)"
   ]
  },
  {
   "cell_type": "code",
   "execution_count": 4,
   "metadata": {},
   "outputs": [
    {
     "name": "stdout",
     "output_type": "stream",
     "text": [
      "please enter age 12\n",
      "the ticket is $10\n",
      "Do you want to check again , YES or NO yes\n",
      "please enter age 10\n",
      "the ticket is $10\n",
      "Do you want to check again , YES or NO yes\n",
      "please enter age 2\n",
      "the ticket is free\n",
      "Do you want to check again , YES or NO no\n"
     ]
    }
   ],
   "source": [
    "while True:\n",
    "    age = int(input(\"please enter age \"))\n",
    "    if(age > 0 and age < 3):\n",
    "        print(\"the ticket is free\")\n",
    "    elif(age >= 3 and age <= 12):\n",
    "        print(\"the ticket is $10\")\n",
    "    elif(age > 12):\n",
    "        print(\"the ticket is $15\")\n",
    "    again = input(\"Do you want to check again , YES or NO \").lower()\n",
    "    if(again != \"yes\"):\n",
    "        break"
   ]
  },
  {
   "cell_type": "code",
   "execution_count": 6,
   "metadata": {},
   "outputs": [
    {
     "name": "stdout",
     "output_type": "stream",
     "text": [
      "One of my favorite books is  Python\n"
     ]
    }
   ],
   "source": [
    "def favorite_book(title=\"Title is missing\"):\n",
    "    print(\"One of my favorite books is \",title)\n",
    "\n",
    "\n",
    "favorite_book(\"Python\")"
   ]
  },
  {
   "cell_type": "code",
   "execution_count": 7,
   "metadata": {},
   "outputs": [
    {
     "name": "stdout",
     "output_type": "stream",
     "text": [
      "You have 3 chance left to guess the number :10\n",
      "You have 2 chance left to guess the number :20\n",
      "You have 1 chance left to guess the number :30\n",
      "You lose the number is  9\n",
      "Do you want to play again ? YES or NO yes\n",
      "You have 3 chance left to guess the number :22\n",
      "You have 2 chance left to guess the number :23\n",
      "You have 1 chance left to guess the number :11\n",
      "You lose the number is  4\n",
      "Do you want to play again ? YES or NO yes\n",
      "You have 3 chance left to guess the number :4\n",
      "You have 2 chance left to guess the number :9\n",
      "You have 1 chance left to guess the number :22\n",
      "You lose the number is  27\n",
      "Do you want to play again ? YES or NO no\n"
     ]
    }
   ],
   "source": [
    "from random import random\n",
    "chance = 0\n",
    "while True:\n",
    "    if(chance == 0):\n",
    "        chance = 3\n",
    "    if(chance == 3):\n",
    "        randomNumber = int(random() * 30)\n",
    "    userGuess = int(input(\"You have \" + str(chance) +\n",
    "                          \" chance left to guess the number :\"))\n",
    "    if(userGuess == randomNumber):\n",
    "        print(\"You Rock !\")\n",
    "        again = input(\"Do you want to play again ? YES or NO \").lower()\n",
    "        if(again != \"yes\"):\n",
    "            break\n",
    "    else:\n",
    "        chance -= 1\n",
    "        if(chance == 0):\n",
    "            print(\"You lose the number is \", randomNumber)\n",
    "            again = input(\"Do you want to play again ? YES or NO \").lower()\n",
    "            if(again != \"yes\"):\n",
    "                break"
   ]
  },
  {
   "cell_type": "code",
   "execution_count": null,
   "metadata": {},
   "outputs": [],
   "source": []
  }
 ],
 "metadata": {
  "kernelspec": {
   "display_name": "Python 3",
   "language": "python",
   "name": "python3"
  },
  "language_info": {
   "codemirror_mode": {
    "name": "ipython",
    "version": 3
   },
   "file_extension": ".py",
   "mimetype": "text/x-python",
   "name": "python",
   "nbconvert_exporter": "python",
   "pygments_lexer": "ipython3",
   "version": "3.7.4"
  }
 },
 "nbformat": 4,
 "nbformat_minor": 2
}
